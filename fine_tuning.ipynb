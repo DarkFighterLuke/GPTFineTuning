{
 "cells": [
  {
   "cell_type": "code",
   "execution_count": null,
   "id": "initial_id",
   "metadata": {
    "collapsed": true
   },
   "source": [
    "import json\n",
    "import pandas as pd\n",
    "from openai import OpenAI"
   ],
   "outputs": []
  },
  {
   "metadata": {},
   "cell_type": "code",
   "execution_count": null,
   "source": [
    "assistant_content = \"Sei un chatbot che riconosce quale emozione tra 'gioia', 'vergogna', 'colpevolezza', 'paura', \" \\\n",
    "                    \"'rabbia', 'tristezza' esprime la frase che gli viene posta. Se non conosci la risposta rispondi \" \\\n",
    "                    \"con 'idk'.\""
   ],
   "id": "c420171459c95efc",
   "outputs": []
  },
  {
   "metadata": {},
   "cell_type": "code",
   "execution_count": null,
   "source": [
    "train_df = pd.read_csv(\"sample_data/train_isear_it.csv\", delimiter=\"|\")\n",
    "eval_df = pd.read_csv(\"sample_data/val_isear_it.csv\", delimiter=\"|\")\n",
    "\n",
    "# 0 gioia\n",
    "# 1 tristezza\n",
    "# 2 rabbia\n",
    "# 3 paura\n",
    "# 4 vergogna\n",
    "# 5 disgusto\n",
    "# 6 colpevolezza\n",
    "sentiments = [\"gioia\", \"tristezza\", \"rabbia\", \"paura\", \"vergogna\", \"disgusto\", \"colpevolezza\"]"
   ],
   "id": "79729616975183e3",
   "outputs": []
  },
  {
   "metadata": {},
   "cell_type": "code",
   "execution_count": null,
   "source": [
    "def format_examples(examples: pd.DataFrame):\n",
    "    formatted_examples = list()\n",
    "    for index, example in examples.iterrows():\n",
    "        formatted_example = {\n",
    "            \"messages\": [\n",
    "                {\n",
    "                    \"role\": \"system\",\n",
    "                    \"content\": assistant_content\n",
    "                },\n",
    "                {\n",
    "                    \"role\": \"user\",\n",
    "                    \"content\": example[\"text\"]\n",
    "                },\n",
    "                {\n",
    "                    \"role\": \"assistant\",\n",
    "                    \"content\": sentiments[example[\"label\"]]\n",
    "                }\n",
    "            ]\n",
    "        }\n",
    "        formatted_examples.append(json.dumps(formatted_example))\n",
    "    return examples.assign(formatted_example=formatted_examples)"
   ],
   "id": "16a06d412c66d4aa",
   "outputs": []
  },
  {
   "metadata": {},
   "cell_type": "code",
   "execution_count": null,
   "source": [
    "train_df = format_examples(train_df)\n",
    "eval_df = format_examples(eval_df)"
   ],
   "id": "f4088a4c83e692bd",
   "outputs": []
  },
  {
   "metadata": {},
   "cell_type": "code",
   "execution_count": null,
   "source": [
    "with open(\"train.jsonl\", \"w\") as f:\n",
    "    for fe in train_df[\"formatted_example\"]:\n",
    "        f.write(fe + \"\\n\")\n",
    "with open(\"val.jsonl\", \"w\") as f:\n",
    "    for fe in train_df[\"formatted_example\"]:\n",
    "        f.write(fe + \"\\n\")"
   ],
   "id": "a93ceb873bd38d15",
   "outputs": []
  },
  {
   "metadata": {},
   "cell_type": "code",
   "execution_count": null,
   "source": [
    "client = OpenAI()\n",
    "train_file = client.files.create(\n",
    "    file=open(\"train.jsonl\", \"rb\"),\n",
    "    purpose=\"fine-tune\"\n",
    ")\n",
    "print(f\"Train file id: {train_file.id}\")\n",
    "eval_file = client.files.create(\n",
    "    file=open(\"val.jsonl\", \"rb\"),\n",
    "    purpose=\"fine-tune\"\n",
    ")\n",
    "print(f\"Evaluation file id: {eval_file.id}\")"
   ],
   "id": "5e179b1dcc072cee",
   "outputs": []
  },
  {
   "metadata": {},
   "cell_type": "code",
   "execution_count": null,
   "source": [
    "job = client.fine_tuning.jobs.create(\n",
    "    training_file=train_file.id,\n",
    "    model=\"gpt-3.5-turbo-0125\",\n",
    "    suffix=\"emotions\",\n",
    "    validation_file=eval_file.id\n",
    ")\n",
    "print(f\"Job id: {job.id}\")"
   ],
   "id": "1180f7f1506706b",
   "outputs": []
  }
 ],
 "metadata": {
  "kernelspec": {
   "display_name": "Python 3",
   "language": "python",
   "name": "python3"
  },
  "language_info": {
   "codemirror_mode": {
    "name": "ipython",
    "version": 2
   },
   "file_extension": ".py",
   "mimetype": "text/x-python",
   "name": "python",
   "nbconvert_exporter": "python",
   "pygments_lexer": "ipython2",
   "version": "2.7.6"
  }
 },
 "nbformat": 4,
 "nbformat_minor": 5
}
