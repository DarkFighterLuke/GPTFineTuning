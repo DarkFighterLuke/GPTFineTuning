{
 "cells": [
  {
   "cell_type": "code",
   "id": "initial_id",
   "metadata": {
    "ExecuteTime": {
     "end_time": "2024-05-07T14:48:31.671310Z",
     "start_time": "2024-05-07T14:48:29.146542Z"
    }
   },
   "source": [
    "from openai import OpenAI"
   ],
   "execution_count": 1,
   "outputs": []
  },
  {
   "cell_type": "code",
   "id": "7292ba94dd73165b",
   "metadata": {
    "ExecuteTime": {
     "end_time": "2024-05-07T14:48:31.796643Z",
     "start_time": "2024-05-07T14:48:31.691116Z"
    }
   },
   "source": "client = OpenAI()",
   "execution_count": 2,
   "outputs": []
  },
  {
   "cell_type": "code",
   "id": "f36c5d2b26b34c51",
   "metadata": {
    "ExecuteTime": {
     "end_time": "2024-05-07T14:48:32.398248Z",
     "start_time": "2024-05-07T14:48:31.802981Z"
    }
   },
   "source": [
    "job = client.fine_tuning.jobs.retrieve(\"ftjob-76GGOIi3RbgjPGEclJlZWyQ5\")\n",
    "job.status"
   ],
   "execution_count": 3,
   "outputs": []
  },
  {
   "cell_type": "code",
   "id": "8d77c8eb31d78ffc",
   "metadata": {
    "ExecuteTime": {
     "end_time": "2024-05-07T14:59:26.452917Z",
     "start_time": "2024-05-07T14:58:37.929109Z"
    }
   },
   "source": [
    "page = client.fine_tuning.jobs.list_events(fine_tuning_job_id=\"ftjob-76GGOIi3RbgjPGEclJlZWyQ5\")\n",
    "with open(\"fine_tuning_logs.txt\", \"w\") as f:\n",
    "    for p in page.iter_pages():\n",
    "        for line in p.data:\n",
    "            f.write(line.message)\n",
    "            f.write(\"\\n\")"
   ],
   "execution_count": 11,
   "outputs": []
  },
  {
   "cell_type": "code",
   "id": "6fa3b748fc0f6fe1",
   "metadata": {
    "ExecuteTime": {
     "end_time": "2024-05-07T15:07:20.365255Z",
     "start_time": "2024-05-07T15:07:19.390865Z"
    }
   },
   "source": [
    "completion = client.chat.completions.create(\n",
    "    model=\"ft:gpt-3.5-turbo-0125:personal:emotions:9MFmXPJ9\",\n",
    "    messages=[\n",
    "        {\"role\": \"system\", \"content\": \"Sei un chatbot che riconosce quale emozione tra 'gioia', 'vergogna', 'colpevolezza', 'paura', \" \\\n",
    "                    \"'rabbia', 'tristezza' esprime la frase che gli viene posta. Se non conosci la risposta rispondi \" \\\n",
    "                    \"con 'idk'.\"},\n",
    "        {\"role\": \"user\", \"content\": \"Quando ho saputo che mia sorella cugina era incinta.\"}\n",
    "    ]\n",
    ")\n",
    "print(completion.choices[0].message)"
   ],
   "execution_count": 14,
   "outputs": []
  },
  {
   "metadata": {},
   "cell_type": "code",
   "execution_count": null,
   "source": "",
   "id": "5cb8b46cde9deaf2",
   "outputs": []
  }
 ],
 "metadata": {
  "kernelspec": {
   "display_name": "Python 3 (ipykernel)",
   "language": "python",
   "name": "python3"
  },
  "language_info": {
   "codemirror_mode": {
    "name": "ipython",
    "version": 3
   },
   "file_extension": ".py",
   "mimetype": "text/x-python",
   "name": "python",
   "nbconvert_exporter": "python",
   "pygments_lexer": "ipython3",
   "version": "3.12.3"
  }
 },
 "nbformat": 4,
 "nbformat_minor": 5
}
